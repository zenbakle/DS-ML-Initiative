{
  "cells": [
    {
      "cell_type": "markdown",
      "id": "1e802f4b",
      "metadata": {
        "id": "1e802f4b"
      },
      "source": [
        "need to install google-cloud-vision (GCP SDK) from conda -c conda-forge\n",
        "\n",
        "conda env create gcp-cloud-vision\n",
        "conda install -c conda-forge pillow=10.1.0 pandas=2.1.2 google-cloud-vision=3.4.5 scikit-learn=1.3.2 ipykernel jupyterlab notebook python=3.12.0\n",
        "\n",
        "to set up kernel in jupyterlabs:\n",
        "\n",
        "python -m ipykernel install --user --name=gcp-cloud-vision\n"
      ]
    },
    {
      "cell_type": "code",
      "execution_count": null,
      "id": "5e49fc0b",
      "metadata": {
        "id": "5e49fc0b"
      },
      "outputs": [],
      "source": [
        "# Authentication to Google API\n",
        "import os\n",
        "import math\n",
        "from collections import Counter\n",
        "from google.cloud import vision\n",
        "import re\n",
        "\n",
        "os.environ['GOOGLE_APPLICATION_CREDENTIALS'] ='vision_key.json'\n",
        "WORD = re.compile(r\"\\w+\")"
      ]
    },
    {
      "cell_type": "code",
      "execution_count": null,
      "id": "54905fa2",
      "metadata": {
        "id": "54905fa2"
      },
      "outputs": [],
      "source": [
        "def detect_text(path):\n",
        "    \"\"\"Detects text in the file.\"\"\"\n",
        "\n",
        "    client = vision.ImageAnnotatorClient()\n",
        "\n",
        "    with open(path, \"rb\") as image_file:\n",
        "        content = image_file.read()\n",
        "\n",
        "    image = vision.Image(content=content)\n",
        "\n",
        "    # for non-dense text\n",
        "    # response = client.text_detection(image=image)\n",
        "    # for dense text\n",
        "    response = client.document_text_detection(image=image)\n",
        "    texts = response.text_annotations\n",
        "    ocr_text = []\n",
        "\n",
        "    for text in texts:\n",
        "        ocr_text.append(f\"\\r\\n{text.description}\")\n",
        "\n",
        "    if response.error.message:\n",
        "        raise Exception(\n",
        "            \"{}\\nFor more info on error messages, check: \"\n",
        "            \"https://cloud.google.com/apis/design/errors\".format(response.error.message)\n",
        "        )\n",
        "    return ocr_text"
      ]
    },
    {
      "cell_type": "code",
      "execution_count": null,
      "id": "09b08965",
      "metadata": {
        "id": "09b08965"
      },
      "outputs": [],
      "source": [
        "image_path = \"../content/dl1.png\"\n",
        "text = detect_text(image_path)"
      ]
    },
    {
      "cell_type": "code",
      "execution_count": null,
      "id": "4e72eb67-a4cf-4f86-bc55-3ae01e6c9e54",
      "metadata": {
        "scrolled": true,
        "id": "4e72eb67-a4cf-4f86-bc55-3ae01e6c9e54"
      },
      "outputs": [],
      "source": [
        "text[0]"
      ]
    },
    {
      "cell_type": "code",
      "execution_count": null,
      "id": "c92fbd52-22e9-48f5-a81b-3c9d231b3157",
      "metadata": {
        "scrolled": true,
        "id": "c92fbd52-22e9-48f5-a81b-3c9d231b3157"
      },
      "outputs": [],
      "source": [
        "for line in text:\n",
        "    print(line)"
      ]
    },
    {
      "cell_type": "code",
      "execution_count": null,
      "id": "28ea91a5",
      "metadata": {
        "scrolled": true,
        "id": "28ea91a5"
      },
      "outputs": [],
      "source": [
        "from PIL import Image, ImageDraw\n",
        "image=Image.open(image_path)\n",
        "image"
      ]
    },
    {
      "cell_type": "code",
      "execution_count": null,
      "id": "21f0a2a8-0e43-49d4-8334-7c158381f5e1",
      "metadata": {
        "id": "21f0a2a8-0e43-49d4-8334-7c158381f5e1"
      },
      "outputs": [],
      "source": []
    },
    {
      "cell_type": "code",
      "execution_count": null,
      "id": "4ce51940-f71c-4013-bd06-91e2372398e4",
      "metadata": {
        "id": "4ce51940-f71c-4013-bd06-91e2372398e4"
      },
      "outputs": [],
      "source": []
    },
    {
      "cell_type": "code",
      "execution_count": null,
      "id": "7dac4f57-9e05-4c56-8654-740ebba27bc9",
      "metadata": {
        "id": "7dac4f57-9e05-4c56-8654-740ebba27bc9"
      },
      "outputs": [],
      "source": []
    },
    {
      "cell_type": "code",
      "execution_count": null,
      "id": "2ff6f56d-8da7-4750-bd11-0aae6ecda911",
      "metadata": {
        "id": "2ff6f56d-8da7-4750-bd11-0aae6ecda911"
      },
      "outputs": [],
      "source": []
    },
    {
      "cell_type": "code",
      "execution_count": null,
      "id": "45bcd072-6e98-45a0-b3ec-d2ca51117161",
      "metadata": {
        "id": "45bcd072-6e98-45a0-b3ec-d2ca51117161"
      },
      "outputs": [],
      "source": []
    },
    {
      "cell_type": "code",
      "execution_count": null,
      "id": "06dd3f93-eb61-44b7-b24b-8efacff834be",
      "metadata": {
        "id": "06dd3f93-eb61-44b7-b24b-8efacff834be"
      },
      "outputs": [],
      "source": []
    },
    {
      "cell_type": "code",
      "execution_count": null,
      "id": "d73eadd3-4d2c-4280-b195-a79df861d3d9",
      "metadata": {
        "id": "d73eadd3-4d2c-4280-b195-a79df861d3d9"
      },
      "outputs": [],
      "source": []
    },
    {
      "cell_type": "code",
      "execution_count": null,
      "id": "22b85cc1-4f4e-4e26-9de7-ebed0df89454",
      "metadata": {
        "id": "22b85cc1-4f4e-4e26-9de7-ebed0df89454"
      },
      "outputs": [],
      "source": []
    },
    {
      "cell_type": "code",
      "execution_count": null,
      "id": "2f47c625-e723-40ed-816d-a3bbcc6fe3c9",
      "metadata": {
        "id": "2f47c625-e723-40ed-816d-a3bbcc6fe3c9"
      },
      "outputs": [],
      "source": []
    },
    {
      "cell_type": "code",
      "execution_count": null,
      "id": "8d911a73-5f42-4b8d-914f-7e0faff587d9",
      "metadata": {
        "id": "8d911a73-5f42-4b8d-914f-7e0faff587d9"
      },
      "outputs": [],
      "source": []
    },
    {
      "cell_type": "code",
      "execution_count": null,
      "id": "01ef81a3-f629-4007-a1a4-ef399c0e1f16",
      "metadata": {
        "id": "01ef81a3-f629-4007-a1a4-ef399c0e1f16"
      },
      "outputs": [],
      "source": []
    },
    {
      "cell_type": "code",
      "execution_count": null,
      "id": "ea76427e-1cda-417e-90ae-da5b65ff7b43",
      "metadata": {
        "id": "ea76427e-1cda-417e-90ae-da5b65ff7b43"
      },
      "outputs": [],
      "source": []
    },
    {
      "cell_type": "code",
      "execution_count": null,
      "id": "640ee444",
      "metadata": {
        "id": "640ee444"
      },
      "outputs": [],
      "source": [
        "def get_cosine(vec1, vec2):\n",
        "    intersection = set(vec1.keys()) & set(vec2.keys())\n",
        "    numerator = sum([vec1[x] * vec2[x] for x in intersection])\n",
        "\n",
        "    sum1 = sum([vec1[x] ** 2 for x in list(vec1.keys())])\n",
        "    sum2 = sum([vec2[x] ** 2 for x in list(vec2.keys())])\n",
        "    denominator = math.sqrt(sum1) * math.sqrt(sum2)\n",
        "\n",
        "    if not denominator:\n",
        "        return 0.0\n",
        "    else:\n",
        "        return float(numerator) / denominator\n",
        "\n",
        "\n",
        "def text_to_vector(text):\n",
        "    words = WORD.findall(text)\n",
        "    return Counter(words)"
      ]
    },
    {
      "cell_type": "code",
      "execution_count": null,
      "id": "916d6dc4",
      "metadata": {
        "id": "916d6dc4"
      },
      "outputs": [],
      "source": [
        "text1 = \"This is a foo bar sentence .\"\n",
        "text2 = \"This sentence is similar to a foo bar sentence .\"\n",
        "\n",
        "text1 = \"AUSTIN FORTE Notary Public - State of Colorado \"\n",
        "text2 = \"Austin forth Notary Public - State of Colorado \"\n",
        "\n",
        "vector1 = text_to_vector(text1)\n",
        "vector2 = text_to_vector(text2)\n",
        "\n",
        "cosine = get_cosine(vector1, vector2)\n",
        "\n",
        "print(\"Cosine:\", cosine)"
      ]
    },
    {
      "cell_type": "code",
      "execution_count": null,
      "id": "e103a237",
      "metadata": {
        "id": "e103a237"
      },
      "outputs": [],
      "source": [
        "# print(cosine_similarity(vector1, vector2))"
      ]
    },
    {
      "cell_type": "code",
      "execution_count": null,
      "id": "dcf0adfc",
      "metadata": {
        "id": "dcf0adfc"
      },
      "outputs": [],
      "source": [
        "# vision_client = vision.ImageAnnotatorClient()\n",
        "\n",
        "# image_path = \"content/im25.jpeg\"\n",
        "\n",
        "# with open(image_path, \"rb\") as image_file:\n",
        "#     content = image_file.read()\n",
        "\n",
        "# image = vision.Image(content=content)\n",
        "\n",
        "# # image_uri = 'https://upload.wikimedia.org/wikipedia/commons/b/bf/Mobile_phone_IMEI.jpg'\n",
        "\n",
        "# # image.source.image_uri = image_uri"
      ]
    },
    {
      "cell_type": "code",
      "execution_count": null,
      "id": "e2254c47",
      "metadata": {
        "id": "e2254c47"
      },
      "outputs": [],
      "source": [
        "# response = vision_client.text_detection(image=image)"
      ]
    },
    {
      "cell_type": "code",
      "execution_count": null,
      "id": "67d8e63b",
      "metadata": {
        "id": "67d8e63b"
      },
      "outputs": [],
      "source": [
        "# response.text_annotations[0]"
      ]
    },
    {
      "cell_type": "code",
      "execution_count": null,
      "id": "35dcd859",
      "metadata": {
        "id": "35dcd859"
      },
      "outputs": [],
      "source": [
        "# text = response.text_annotations[0].description\n",
        "\n",
        "# imeis = re.findall('[0-9]{14,15}', text)\n",
        "\n",
        "# print(imeis)"
      ]
    },
    {
      "cell_type": "code",
      "execution_count": null,
      "id": "fdb4c80c",
      "metadata": {
        "id": "fdb4c80c"
      },
      "outputs": [],
      "source": []
    }
  ],
  "metadata": {
    "kernelspec": {
      "display_name": "Python 3 (ipykernel)",
      "language": "python",
      "name": "python3"
    },
    "language_info": {
      "codemirror_mode": {
        "name": "ipython",
        "version": 3
      },
      "file_extension": ".py",
      "mimetype": "text/x-python",
      "name": "python",
      "nbconvert_exporter": "python",
      "pygments_lexer": "ipython3",
      "version": "3.12.0"
    },
    "colab": {
      "provenance": []
    }
  },
  "nbformat": 4,
  "nbformat_minor": 5
}